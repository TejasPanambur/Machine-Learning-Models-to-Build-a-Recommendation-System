{
 "cells": [
  {
   "cell_type": "code",
   "execution_count": 1,
   "metadata": {},
   "outputs": [
    {
     "name": "stdout",
     "output_type": "stream",
     "text": [
      "['.ipynb_checkpoints', 'Dataset', 'dsdsdsd', 'kernel4490903bdc.ipynb', 'Project.ipynb', 'project.py', 'SongRecommendation.py', 'SongRecommendationCollab.py', 'Untitled.ipynb']\n"
     ]
    }
   ],
   "source": [
    "# This Python 3 environment comes with many helpful analytics libraries installed\n",
    "# It is defined by the kaggle/python docker image: https://github.com/kaggle/docker-python\n",
    "# For example, here's several helpful packages to load in \n",
    "\n",
    "import numpy as np # linear algebra\n",
    "import pandas as pd # data processing, CSV file I/O (e.g. pd.read_csv)\n",
    "\n",
    "# Input data files are available in the \"../input/\" directory.\n",
    "# For example, running this (by clicking run or pressing Shift+Enter) will list the files in the input directory\n",
    "\n",
    "import os\n",
    "print(os.listdir(\"../project\"))\n",
    "\n",
    "# Any results you write to the current directory are saved as output."
   ]
  },
  {
   "cell_type": "code",
   "execution_count": 3,
   "metadata": {},
   "outputs": [
    {
     "data": {
      "text/html": [
       "<div>\n",
       "<style scoped>\n",
       "    .dataframe tbody tr th:only-of-type {\n",
       "        vertical-align: middle;\n",
       "    }\n",
       "\n",
       "    .dataframe tbody tr th {\n",
       "        vertical-align: top;\n",
       "    }\n",
       "\n",
       "    .dataframe thead th {\n",
       "        text-align: right;\n",
       "    }\n",
       "</style>\n",
       "<table border=\"1\" class=\"dataframe\">\n",
       "  <thead>\n",
       "    <tr style=\"text-align: right;\">\n",
       "      <th></th>\n",
       "      <th>Unnamed: 0</th>\n",
       "      <th>JobID</th>\n",
       "      <th>WindowID</th>\n",
       "      <th>Title</th>\n",
       "      <th>Description</th>\n",
       "      <th>Requirements</th>\n",
       "      <th>City</th>\n",
       "      <th>State</th>\n",
       "      <th>Country</th>\n",
       "      <th>Zip5</th>\n",
       "      <th>StartDate</th>\n",
       "      <th>EndDate</th>\n",
       "    </tr>\n",
       "  </thead>\n",
       "  <tbody>\n",
       "    <tr>\n",
       "      <th>0</th>\n",
       "      <td>0</td>\n",
       "      <td>1</td>\n",
       "      <td>1</td>\n",
       "      <td>Security Engineer/Technical Lead</td>\n",
       "      <td>Security Engineer/Technical Lead&lt;p&gt;Security Cl...</td>\n",
       "      <td>&lt;p&gt;SKILL SET&lt;/p&gt;\\r&lt;p&gt;&amp;nbsp;&lt;/p&gt;\\r&lt;p&gt;Network Se...</td>\n",
       "      <td>Washington</td>\n",
       "      <td>DC</td>\n",
       "      <td>US</td>\n",
       "      <td>20531.0</td>\n",
       "      <td>2012-03-07 13:17:01.643</td>\n",
       "      <td>2012-04-06 23:59:59</td>\n",
       "    </tr>\n",
       "    <tr>\n",
       "      <th>1</th>\n",
       "      <td>1</td>\n",
       "      <td>4</td>\n",
       "      <td>1</td>\n",
       "      <td>SAP Business Analyst / WM</td>\n",
       "      <td>SAP Business Analyst / WM&lt;strong&gt;NO Corp. to C...</td>\n",
       "      <td>&lt;p&gt;&lt;b&gt;WHAT YOU NEED: &lt;/b&gt;&lt;/p&gt;\\r&lt;p&gt;Four year co...</td>\n",
       "      <td>Charlotte</td>\n",
       "      <td>NC</td>\n",
       "      <td>US</td>\n",
       "      <td>28217.0</td>\n",
       "      <td>2012-03-21 02:03:44.137</td>\n",
       "      <td>2012-04-20 23:59:59</td>\n",
       "    </tr>\n",
       "    <tr>\n",
       "      <th>2</th>\n",
       "      <td>2</td>\n",
       "      <td>7</td>\n",
       "      <td>1</td>\n",
       "      <td>P/T HUMAN RESOURCES ASSISTANT</td>\n",
       "      <td>P/T HUMAN RESOURCES ASSISTANT&lt;b&gt;    &lt;b&gt; P/T HU...</td>\n",
       "      <td>Please refer to the Job Description to view th...</td>\n",
       "      <td>Winter Park</td>\n",
       "      <td>FL</td>\n",
       "      <td>US</td>\n",
       "      <td>32792.0</td>\n",
       "      <td>2012-03-02 16:36:55.447</td>\n",
       "      <td>2012-04-01 23:59:59</td>\n",
       "    </tr>\n",
       "    <tr>\n",
       "      <th>3</th>\n",
       "      <td>3</td>\n",
       "      <td>8</td>\n",
       "      <td>1</td>\n",
       "      <td>Route Delivery Drivers</td>\n",
       "      <td>Route Delivery DriversCITY BEVERAGES Come to w...</td>\n",
       "      <td>Please refer to the Job Description to view th...</td>\n",
       "      <td>Orlando</td>\n",
       "      <td>FL</td>\n",
       "      <td>US</td>\n",
       "      <td>NaN</td>\n",
       "      <td>2012-03-03 09:01:10.077</td>\n",
       "      <td>2012-04-02 23:59:59</td>\n",
       "    </tr>\n",
       "  </tbody>\n",
       "</table>\n",
       "</div>"
      ],
      "text/plain": [
       "   Unnamed: 0  JobID  WindowID                             Title  \\\n",
       "0           0      1         1  Security Engineer/Technical Lead   \n",
       "1           1      4         1         SAP Business Analyst / WM   \n",
       "2           2      7         1     P/T HUMAN RESOURCES ASSISTANT   \n",
       "3           3      8         1            Route Delivery Drivers   \n",
       "\n",
       "                                         Description  \\\n",
       "0  Security Engineer/Technical Lead<p>Security Cl...   \n",
       "1  SAP Business Analyst / WM<strong>NO Corp. to C...   \n",
       "2  P/T HUMAN RESOURCES ASSISTANT<b>    <b> P/T HU...   \n",
       "3  Route Delivery DriversCITY BEVERAGES Come to w...   \n",
       "\n",
       "                                        Requirements         City State  \\\n",
       "0  <p>SKILL SET</p>\\r<p>&nbsp;</p>\\r<p>Network Se...   Washington    DC   \n",
       "1  <p><b>WHAT YOU NEED: </b></p>\\r<p>Four year co...    Charlotte    NC   \n",
       "2  Please refer to the Job Description to view th...  Winter Park    FL   \n",
       "3  Please refer to the Job Description to view th...      Orlando    FL   \n",
       "\n",
       "  Country     Zip5                StartDate              EndDate  \n",
       "0      US  20531.0  2012-03-07 13:17:01.643  2012-04-06 23:59:59  \n",
       "1      US  28217.0  2012-03-21 02:03:44.137  2012-04-20 23:59:59  \n",
       "2      US  32792.0  2012-03-02 16:36:55.447  2012-04-01 23:59:59  \n",
       "3      US      NaN  2012-03-03 09:01:10.077  2012-04-02 23:59:59  "
      ]
     },
     "execution_count": 3,
     "metadata": {},
     "output_type": "execute_result"
    }
   ],
   "source": [
    "jobsUSData = pd.read_csv('Dataset For Job Recommendation System/jobsUsdata.csv')\n",
    "jobsUSData.head(4)"
   ]
  },
  {
   "cell_type": "code",
   "execution_count": null,
   "metadata": {},
   "outputs": [],
   "source": [
    "from sklearn.feature_extraction.text import TfidfVectorizer\n",
    "from sklearn.metrics.pairwise import linear_kernel, cosine_similarity"
   ]
  },
  {
   "cell_type": "code",
   "execution_count": null,
   "metadata": {},
   "outputs": [],
   "source": [
    "jobsUSbase = jobsUSData.iloc[0:20000]"
   ]
  },
  {
   "cell_type": "code",
   "execution_count": null,
   "metadata": {},
   "outputs": [],
   "source": [
    "tf = TfidfVectorizer(analyzer='word',ngram_range=(1,2),min_df=0,stop_words='english')\n",
    "tfidf_matrix = tf.fit_transform(jobsUSbase['Description'])\n",
    "tfidf_matrix.shape"
   ]
  },
  {
   "cell_type": "code",
   "execution_count": null,
   "metadata": {},
   "outputs": [],
   "source": [
    "cosine_sim = linear_kernel(tfidf_matrix, tfidf_matrix)\n",
    "cosine_sim.shape\n",
    "cosine_sim[0]\n",
    "jobsUSbase.reset_index()"
   ]
  },
  {
   "cell_type": "code",
   "execution_count": null,
   "metadata": {},
   "outputs": [],
   "source": [
    "titles  = jobsUSbase['Title']\n",
    "indices = pd.Series(jobsUSbase.index, index=jobsUSbase['Title'])\n"
   ]
  },
  {
   "cell_type": "code",
   "execution_count": null,
   "metadata": {},
   "outputs": [],
   "source": [
    "def get_recommnedation(title,cnt):\n",
    "    similar_job_indices = []\n",
    "    #def get_recommendation(title, no_of_jobs):\n",
    "    i = indices[title]\n",
    "    simulated_scores = enumerate(cosine_sim[i])\n",
    "    simulated_scores = sorted(simulated_scores, key = lambda x: x[1],reverse = True)\n",
    "    #print(simulated_scores)\n",
    "    count = 0\n",
    "    for i in simulated_scores:\n",
    "        count = count+1\n",
    "        similar_job_indices.append(i[0])\n",
    "        if count == cnt:\n",
    "            break\n",
    "    print(similar_job_indices)\n",
    "    for i in similar_job_indices:\n",
    "        print(titles[i])  \n",
    "    "
   ]
  },
  {
   "cell_type": "code",
   "execution_count": null,
   "metadata": {},
   "outputs": [],
   "source": [
    "get_recommnedation('SAP Business Analyst / WM',10)"
   ]
  },
  {
   "cell_type": "code",
   "execution_count": null,
   "metadata": {},
   "outputs": [],
   "source": [
    "get_recommnedation('Route Delivery Drivers',10)"
   ]
  },
  {
   "cell_type": "code",
   "execution_count": null,
   "metadata": {},
   "outputs": [],
   "source": [
    "userData = pd.read_csv('../Project/Dataset For Job Recommendation System/users.tsv',delimiter = '\\t')\n",
    "userData.head()"
   ]
  },
  {
   "cell_type": "code",
   "execution_count": null,
   "metadata": {},
   "outputs": [],
   "source": [
    "user_based_approach_US = userData.loc[userData['Country']=='US']\n",
    "user_based_approach_US.head()"
   ]
  },
  {
   "cell_type": "code",
   "execution_count": null,
   "metadata": {},
   "outputs": [],
   "source": [
    "user_based_approach_US = user_based_approach_US.iloc[0:15000]\n",
    "user_based_approach_US"
   ]
  },
  {
   "cell_type": "code",
   "execution_count": null,
   "metadata": {},
   "outputs": [],
   "source": [
    "appsData = pd.read_csv('../Project/Dataset For Job Recommendation System/apps.tsv',delimiter = '\\t')\n",
    "appsData.head()"
   ]
  },
  {
   "cell_type": "code",
   "execution_count": null,
   "metadata": {},
   "outputs": [],
   "source": [
    "user_based_approach_US['Major'] = user_based_approach_US['Major'].fillna('')\n",
    "user_based_approach_US['DegreeType'] = user_based_approach_US['DegreeType'].fillna('')\n",
    "user_based_approach_US['TotalYearsExperience'] = str(user_based_approach_US['TotalYearsExperience'].fillna(''))\n",
    "user_based_approach_US['Details'] = user_based_approach_US['Major'] + user_based_approach_US['DegreeType'] + user_based_approach_US['TotalYearsExperience']"
   ]
  },
  {
   "cell_type": "code",
   "execution_count": null,
   "metadata": {},
   "outputs": [],
   "source": [
    "user_based_approach_US.head()"
   ]
  },
  {
   "cell_type": "code",
   "execution_count": null,
   "metadata": {},
   "outputs": [],
   "source": [
    "tf = TfidfVectorizer(analyzer = 'word', ngram_range = (1,2), min_df =0, stop_words = 'english')\n",
    "tfidf_matrix = tf.fit_transform(user_based_approach_US['Details'])"
   ]
  },
  {
   "cell_type": "code",
   "execution_count": null,
   "metadata": {},
   "outputs": [],
   "source": [
    "tfidf_matrix.shape"
   ]
  },
  {
   "cell_type": "code",
   "execution_count": null,
   "metadata": {},
   "outputs": [],
   "source": [
    "cosine_sim = linear_kernel(tfidf_matrix, tfidf_matrix)"
   ]
  },
  {
   "cell_type": "code",
   "execution_count": null,
   "metadata": {},
   "outputs": [],
   "source": [
    "cosine_sim[0]"
   ]
  },
  {
   "cell_type": "code",
   "execution_count": null,
   "metadata": {},
   "outputs": [],
   "source": [
    "user_based_approach_US = user_based_approach_US.reset_index()\n",
    "userid = user_based_approach_US['UserID']\n",
    "indices = pd.Series(user_based_approach_US.index, index=user_based_approach_US['UserID'])"
   ]
  },
  {
   "cell_type": "code",
   "execution_count": null,
   "metadata": {},
   "outputs": [],
   "source": [
    "def get_recommendations_userwise(userid,cnt):\n",
    "    user_indices = []\n",
    "    idx = indices[userid]\n",
    "    sim_scores = enumerate(cosine_sim[idx])\n",
    "    sim_scores = sorted(sim_scores, key = lambda x:x[1], reverse = True)\n",
    "    count = 0\n",
    "    for i in sim_scores:\n",
    "        count = count+1\n",
    "        user_indices.append(i[0])\n",
    "        if count == cnt:\n",
    "            break\n",
    "    return user_indices"
   ]
  },
  {
   "cell_type": "code",
   "execution_count": null,
   "metadata": {},
   "outputs": [],
   "source": [
    "print(\"---- Top N similar users with userId: 123 ---\")\n",
    "get_recommendations_userwise(123,10)"
   ]
  },
  {
   "cell_type": "code",
   "execution_count": null,
   "metadata": {},
   "outputs": [],
   "source": [
    "def get_job_id(userid_list):\n",
    "    jobs_userwise = appsData['UserID'].isin(userid_list)\n",
    "    df1 = pd.DataFrame(data = appsData[jobs_userwise], columns=['JobID'])\n",
    "    joblist = df1['JobID'].tolist()\n",
    "    Job_list = jobsUSData['JobID'].isin(joblist)\n",
    "    df_temp = pd.DataFrame(data = jobsUSData[Job_list], columns = ['JobID','Title','Description','State','City'])\n",
    "    return df_temp\n",
    "    "
   ]
  },
  {
   "cell_type": "code",
   "execution_count": null,
   "metadata": {},
   "outputs": [],
   "source": [
    "get_recommendations_userwise(123,10)"
   ]
  },
  {
   "cell_type": "code",
   "execution_count": null,
   "metadata": {},
   "outputs": [],
   "source": [
    "get_job_id(get_recommendations_userwise(123,10))"
   ]
  },
  {
   "cell_type": "code",
   "execution_count": null,
   "metadata": {},
   "outputs": [],
   "source": [
    "get_recommendations_userwise(80,5)"
   ]
  },
  {
   "cell_type": "code",
   "execution_count": null,
   "metadata": {},
   "outputs": [],
   "source": [
    "get_job_id(get_recommendations_userwise(80,5))"
   ]
  },
  {
   "cell_type": "code",
   "execution_count": null,
   "metadata": {},
   "outputs": [],
   "source": [
    "count = CountVectorizer(stop_words='english')\n",
    "count_matrix = count.fit_transform(jobsUSbase['Description'])\n",
    "\n",
    "count_matrix.shape\n",
    "\n",
    "cosine_sim2 = cosine_similarity(count_matrix, count_matrix)\n",
    "\n",
    "cosine_sim2.shape\n"
   ]
  },
  {
   "cell_type": "code",
   "execution_count": null,
   "metadata": {},
   "outputs": [],
   "source": [
    "def get_recommnedation(title,cnt):\n",
    "    similar_job_indices = []\n",
    "    #def get_recommendation(title, no_of_jobs):\n",
    "    i = indices[title]\n",
    "    simulated_scores = enumerate(cosine_sim2[i])\n",
    "    simulated_scores = sorted(simulated_scores, key = lambda x: x[1],reverse = True)\n",
    "    #print(simulated_scores)\n",
    "    count = 0\n",
    "    for i in simulated_scores:\n",
    "        count = count+1\n",
    "        similar_job_indices.append(i[0])\n",
    "        if count == cnt:\n",
    "            break\n",
    "    print(similar_job_indices)\n",
    "    for i in similar_job_indices:\n",
    "        print(titles[i])\n"
   ]
  },
  {
   "cell_type": "code",
   "execution_count": null,
   "metadata": {},
   "outputs": [],
   "source": [
    "get_recommnedation('SAP Business Analyst / WM',10)"
   ]
  },
  {
   "cell_type": "code",
   "execution_count": null,
   "metadata": {},
   "outputs": [],
   "source": [
    "get_recommnedation('Route Delivery Drivers',10)"
   ]
  }
 ],
 "metadata": {
  "kernelspec": {
   "display_name": "Python 3",
   "language": "python",
   "name": "python3"
  },
  "language_info": {
   "codemirror_mode": {
    "name": "ipython",
    "version": 3
   },
   "file_extension": ".py",
   "mimetype": "text/x-python",
   "name": "python",
   "nbconvert_exporter": "python",
   "pygments_lexer": "ipython3",
   "version": "3.7.2"
  }
 },
 "nbformat": 4,
 "nbformat_minor": 2
}
